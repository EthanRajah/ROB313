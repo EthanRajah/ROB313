{
  "cells": [
    {
      "cell_type": "code",
      "execution_count": 1,
      "metadata": {
        "id": "mBweeF1oZF0N"
      },
      "outputs": [],
      "source": [
        "import numpy as np\n",
        "import time"
      ]
    },
    {
      "cell_type": "markdown",
      "metadata": {
        "id": "5xXbVdYFZgJQ"
      },
      "source": [
        "Create an array (Simple example)"
      ]
    },
    {
      "cell_type": "code",
      "execution_count": 2,
      "metadata": {
        "id": "H-WATr9-ZOWm"
      },
      "outputs": [],
      "source": [
        "num_elements = 10000000\n",
        "input_array = np.arange(num_elements) # return evenly spaced values within interval num_elements"
      ]
    },
    {
      "cell_type": "markdown",
      "metadata": {
        "id": "TkrsgNta7Vxe"
      },
      "source": [
        "Double the array\n"
      ]
    },
    {
      "cell_type": "code",
      "execution_count": 3,
      "metadata": {
        "id": "jGD3eIZe7VUZ"
      },
      "outputs": [],
      "source": [
        "arg_length = 10000000\n",
        "arg_vector = np.arange(arg_length)  # An example vector argument."
      ]
    },
    {
      "cell_type": "code",
      "execution_count": 4,
      "metadata": {
        "colab": {
          "base_uri": "https://localhost:8080/"
        },
        "id": "K1dZc3137iea",
        "outputId": "4183c90d-ff29-48ff-9946-18a38fb877db"
      },
      "outputs": [
        {
          "name": "stdout",
          "output_type": "stream",
          "text": [
            "[0, 2, 4, 6, 8]\n",
            "Runtime: 2.3896067142486572\n"
          ]
        }
      ],
      "source": [
        "def doubler(x):\n",
        "    \"\"\"Take an array and return an array with each element doubled.  This version does not use numpy.\n",
        "    \n",
        "    :param x: An array of numbers.\n",
        "    :return: An array of doubled numbers.\n",
        "    \"\"\"  \n",
        "    new_x = [None] * len(x)\n",
        "    for i in range(len(x)):\n",
        "        new_x[i] = x[i] * 2\n",
        "    return new_x\n",
        "\n",
        "start_time = time.time()\n",
        "print(doubler(arg_vector)[:5])\n",
        "print(f\"Runtime: {time.time() - start_time}\")"
      ]
    },
    {
      "cell_type": "code",
      "execution_count": 5,
      "metadata": {
        "colab": {
          "base_uri": "https://localhost:8080/"
        },
        "id": "_OxE9XS87mJy",
        "outputId": "426814c4-c35e-4feb-af65-f7ab6911146f"
      },
      "outputs": [
        {
          "name": "stdout",
          "output_type": "stream",
          "text": [
            "[0 2 4 6 8]\n",
            "Runtime: 0.013962507247924805\n"
          ]
        }
      ],
      "source": [
        "def doubler_numpy(x):\n",
        "    \"\"\"Take an array and return an array with each element doubled.  This version uses numpy.\n",
        "    \n",
        "    :param x: An array of numbers.\n",
        "    :return: An array of doubled numbers.\n",
        "    \"\"\" \n",
        "    return x * 2\n",
        "\n",
        "start_time = time.time()\n",
        "print(doubler_numpy(arg_vector)[:5])\n",
        "print(f\"Runtime: {time.time() - start_time}\")"
      ]
    },
    {
      "cell_type": "markdown",
      "metadata": {
        "id": "Lq8mX4WyZv_m"
      },
      "source": [
        "Square the array"
      ]
    },
    {
      "cell_type": "code",
      "execution_count": 6,
      "metadata": {
        "colab": {
          "base_uri": "https://localhost:8080/"
        },
        "id": "BV8C4uwv_qL0",
        "outputId": "482b0f09-4bf9-4f2d-f5a1-eb29ada5e7d4"
      },
      "outputs": [
        {
          "data": {
            "text/plain": [
              "numpy.ndarray"
            ]
          },
          "execution_count": 6,
          "metadata": {},
          "output_type": "execute_result"
        }
      ],
      "source": [
        "temp = np.array([0,1])\n",
        "type(temp)"
      ]
    },
    {
      "cell_type": "code",
      "execution_count": 7,
      "metadata": {
        "colab": {
          "base_uri": "https://localhost:8080/"
        },
        "id": "USxc37YRZUzN",
        "outputId": "60c5cdb7-a99d-4497-89e6-854613b64d61"
      },
      "outputs": [
        {
          "name": "stderr",
          "output_type": "stream",
          "text": [
            "C:\\Users\\Ethan's PC\\AppData\\Local\\Temp\\ipykernel_18588\\3277855195.py:4: RuntimeWarning: overflow encountered in long_scalars\n",
            "  return_array[key] = val * val # access array element\n"
          ]
        },
        {
          "name": "stdout",
          "output_type": "stream",
          "text": [
            "8.333678245544434\n"
          ]
        }
      ],
      "source": [
        "start_time = time.time()\n",
        "return_array = [0] * len(input_array)\n",
        "for key, val in enumerate(input_array):\n",
        "    return_array[key] = val * val # access array element\n",
        "print(time.time() - start_time)"
      ]
    },
    {
      "cell_type": "code",
      "execution_count": 8,
      "metadata": {
        "colab": {
          "base_uri": "https://localhost:8080/"
        },
        "id": "Huft6hWpZX7F",
        "outputId": "451b2210-bb13-4f07-eb80-b4b85d236c78"
      },
      "outputs": [
        {
          "name": "stdout",
          "output_type": "stream",
          "text": [
            "0.018948793411254883\n"
          ]
        }
      ],
      "source": [
        "start_time = time.time()\n",
        "return_array_vectorized = np.power(input_array, 2)\n",
        "print(time.time() - start_time)"
      ]
    },
    {
      "cell_type": "markdown",
      "metadata": {
        "id": "yFLKpoQ9aCFG"
      },
      "source": [
        "Array construction"
      ]
    },
    {
      "cell_type": "code",
      "execution_count": 9,
      "metadata": {
        "colab": {
          "base_uri": "https://localhost:8080/"
        },
        "id": "Ex05HbyfaC1w",
        "outputId": "f060ab79-027e-438e-ad54-bd4303302bd4"
      },
      "outputs": [
        {
          "data": {
            "text/plain": [
              "array([[0., 0., 0., 0.],\n",
              "       [0., 0., 0., 0.],\n",
              "       [0., 0., 0., 0.],\n",
              "       [0., 0., 0., 0.],\n",
              "       [0., 0., 0., 0.]])"
            ]
          },
          "execution_count": 9,
          "metadata": {},
          "output_type": "execute_result"
        }
      ],
      "source": [
        "np.zeros((5,4))"
      ]
    },
    {
      "cell_type": "code",
      "execution_count": 10,
      "metadata": {
        "colab": {
          "base_uri": "https://localhost:8080/"
        },
        "id": "Zloxrj-OaE0E",
        "outputId": "23894b83-0316-45ef-9029-65bea8112526"
      },
      "outputs": [
        {
          "data": {
            "text/plain": [
              "array([[1., 0., 0.],\n",
              "       [0., 1., 0.],\n",
              "       [0., 0., 1.]])"
            ]
          },
          "execution_count": 10,
          "metadata": {},
          "output_type": "execute_result"
        }
      ],
      "source": [
        "np.eye(3) # Create identity matrix of dimension ()"
      ]
    },
    {
      "cell_type": "code",
      "execution_count": 11,
      "metadata": {
        "colab": {
          "base_uri": "https://localhost:8080/"
        },
        "id": "TdFfco-haIES",
        "outputId": "27b87027-e4c6-4ba1-a4dc-7e543d66c1de"
      },
      "outputs": [
        {
          "data": {
            "text/plain": [
              "array([[1, 2],\n",
              "       [3, 4],\n",
              "       [5, 6]])"
            ]
          },
          "execution_count": 11,
          "metadata": {},
          "output_type": "execute_result"
        }
      ],
      "source": [
        "array_1 = np.array([[1,2],[3,4],[5,6]])  # An array with arbitrary elements.\n",
        "array_1"
      ]
    },
    {
      "cell_type": "markdown",
      "metadata": {
        "id": "zDWRKYMIaVTa"
      },
      "source": [
        "Array access"
      ]
    },
    {
      "cell_type": "code",
      "execution_count": 12,
      "metadata": {
        "colab": {
          "base_uri": "https://localhost:8080/"
        },
        "id": "ryVo_-X0aV4b",
        "outputId": "e1a980ab-8d73-48bb-8962-b89d3ff0d6eb"
      },
      "outputs": [
        {
          "data": {
            "text/plain": [
              "2"
            ]
          },
          "execution_count": 12,
          "metadata": {},
          "output_type": "execute_result"
        }
      ],
      "source": [
        "array_1[0,1]  # Access an element"
      ]
    },
    {
      "cell_type": "code",
      "execution_count": 13,
      "metadata": {},
      "outputs": [
        {
          "data": {
            "text/plain": [
              "(3, 2)"
            ]
          },
          "execution_count": 13,
          "metadata": {},
          "output_type": "execute_result"
        }
      ],
      "source": [
        "array_1.shape # shape gives dimensionality of matrix"
      ]
    },
    {
      "cell_type": "code",
      "execution_count": 14,
      "metadata": {
        "colab": {
          "base_uri": "https://localhost:8080/"
        },
        "id": "B9owlerRaYXg",
        "outputId": "c3e4895a-bbb9-4a92-f303-4f0d3772508c"
      },
      "outputs": [
        {
          "data": {
            "text/plain": [
              "array([2, 4, 6])"
            ]
          },
          "execution_count": 14,
          "metadata": {},
          "output_type": "execute_result"
        }
      ],
      "source": [
        "array_1[:,1]  # Access a particular column"
      ]
    },
    {
      "cell_type": "code",
      "execution_count": 15,
      "metadata": {},
      "outputs": [
        {
          "data": {
            "text/plain": [
              "array([[1, 2],\n",
              "       [3, 4]])"
            ]
          },
          "execution_count": 15,
          "metadata": {},
          "output_type": "execute_result"
        }
      ],
      "source": [
        "array_1[:-1] # Give array but without including a particular row"
      ]
    },
    {
      "cell_type": "markdown",
      "metadata": {
        "id": "JrmkQu4HalqM"
      },
      "source": [
        "array operation"
      ]
    },
    {
      "cell_type": "code",
      "execution_count": 16,
      "metadata": {
        "colab": {
          "base_uri": "https://localhost:8080/"
        },
        "id": "08NBtYmNaa2V",
        "outputId": "49a52b0a-aeee-4f3e-fd32-02ac56273671"
      },
      "outputs": [
        {
          "data": {
            "text/plain": [
              "array([[2, 3],\n",
              "       [4, 5],\n",
              "       [6, 7]])"
            ]
          },
          "execution_count": 16,
          "metadata": {},
          "output_type": "execute_result"
        }
      ],
      "source": [
        "array_2 = np.add(array_1, 1)  # array_1 + 1 ---> will add to EVERY element in the array\n",
        "array_2 "
      ]
    },
    {
      "cell_type": "code",
      "execution_count": 17,
      "metadata": {
        "colab": {
          "base_uri": "https://localhost:8080/"
        },
        "id": "vz2YNzzaajp5",
        "outputId": "a23e6a2d-e658-4853-de6e-6cfd997b61b5"
      },
      "outputs": [
        {
          "data": {
            "text/plain": [
              "array([[ 2,  4],\n",
              "       [ 6,  8],\n",
              "       [10, 12]])"
            ]
          },
          "execution_count": 17,
          "metadata": {},
          "output_type": "execute_result"
        }
      ],
      "source": [
        "np.multiply(array_1, 2) # array_1 * 2\n"
      ]
    },
    {
      "cell_type": "code",
      "execution_count": 18,
      "metadata": {
        "colab": {
          "base_uri": "https://localhost:8080/"
        },
        "id": "kDpnSikGasTG",
        "outputId": "2334e9ad-6f73-486f-8dff-3e8048314c67"
      },
      "outputs": [
        {
          "data": {
            "text/plain": [
              "array([[ 3,  5],\n",
              "       [ 7,  9],\n",
              "       [11, 13]])"
            ]
          },
          "execution_count": 18,
          "metadata": {},
          "output_type": "execute_result"
        }
      ],
      "source": [
        "array_1 + array_2  # np.add(array_1, array_2)"
      ]
    },
    {
      "cell_type": "code",
      "execution_count": 19,
      "metadata": {
        "colab": {
          "base_uri": "https://localhost:8080/"
        },
        "id": "KBv-EVt_a6At",
        "outputId": "22cb5170-db01-4de0-9831-99f8afca1ef5"
      },
      "outputs": [
        {
          "data": {
            "text/plain": [
              "array([[ 1,  4],\n",
              "       [ 9, 16],\n",
              "       [25, 36]])"
            ]
          },
          "execution_count": 19,
          "metadata": {},
          "output_type": "execute_result"
        }
      ],
      "source": [
        "np.multiply(array_1, array_1)  # array_1 * array_1"
      ]
    },
    {
      "cell_type": "markdown",
      "metadata": {
        "id": "MNOGPG-7bJbd"
      },
      "source": [
        "Dot product -> np.dot"
      ]
    },
    {
      "cell_type": "code",
      "execution_count": 20,
      "metadata": {
        "colab": {
          "base_uri": "https://localhost:8080/"
        },
        "id": "EmJ6dxBlbLOG",
        "outputId": "c7716f5a-8fd7-4a63-f73b-45dcaf8dbcb4"
      },
      "outputs": [
        {
          "name": "stdout",
          "output_type": "stream",
          "text": [
            "array_3 has the shape: (1, 2)\n",
            "array_4 has the shape: (2, 1)\n"
          ]
        },
        {
          "data": {
            "text/plain": [
              "array([[11]])"
            ]
          },
          "execution_count": 20,
          "metadata": {},
          "output_type": "execute_result"
        }
      ],
      "source": [
        "array_3 = np.array([[1, 2]])\n",
        "array_4 = np.array([[3], [4]])\n",
        "print ('array_3 has the shape:',array_3.shape)\n",
        "print ('array_4 has the shape:',array_4.shape)\n",
        "np.dot(array_3, array_4)  # Inner-product which is shape dependant"
      ]
    },
    {
      "cell_type": "code",
      "execution_count": 21,
      "metadata": {
        "colab": {
          "base_uri": "https://localhost:8080/"
        },
        "id": "jGYcZ66tbOG7",
        "outputId": "2ecd773c-16fd-4221-eb76-37a08cfa1db0"
      },
      "outputs": [
        {
          "data": {
            "text/plain": [
              "array([[3, 6],\n",
              "       [4, 8]])"
            ]
          },
          "execution_count": 21,
          "metadata": {},
          "output_type": "execute_result"
        }
      ],
      "source": [
        "array_5 = np.dot(array_4, array_3)  # Outer-product\n",
        "array_5"
      ]
    },
    {
      "cell_type": "markdown",
      "metadata": {},
      "source": [
        "Reshaping Array"
      ]
    },
    {
      "cell_type": "code",
      "execution_count": 22,
      "metadata": {
        "colab": {
          "base_uri": "https://localhost:8080/"
        },
        "id": "fEhUfbj-FHYT",
        "outputId": "06bbb61f-e51a-445f-b241-4558ee208623"
      },
      "outputs": [
        {
          "data": {
            "text/plain": [
              "(1, 2)"
            ]
          },
          "execution_count": 22,
          "metadata": {},
          "output_type": "execute_result"
        }
      ],
      "source": [
        "array_3.shape"
      ]
    },
    {
      "cell_type": "code",
      "execution_count": 23,
      "metadata": {
        "colab": {
          "base_uri": "https://localhost:8080/"
        },
        "id": "pUHH_9gQFKWY",
        "outputId": "5a85a4bc-9567-477d-c804-0649f6cbcb49"
      },
      "outputs": [
        {
          "name": "stdout",
          "output_type": "stream",
          "text": [
            "[[1 2]]\n"
          ]
        }
      ],
      "source": [
        "print(array_3)"
      ]
    },
    {
      "cell_type": "code",
      "execution_count": 24,
      "metadata": {
        "colab": {
          "base_uri": "https://localhost:8080/"
        },
        "id": "ri7n_0WLFQIl",
        "outputId": "54b1b0e3-8169-418a-cf21-93b0276e1452"
      },
      "outputs": [
        {
          "data": {
            "text/plain": [
              "array([3, 4])"
            ]
          },
          "execution_count": 24,
          "metadata": {},
          "output_type": "execute_result"
        }
      ],
      "source": [
        "array_4.reshape(-1)"
      ]
    },
    {
      "cell_type": "code",
      "execution_count": 25,
      "metadata": {},
      "outputs": [
        {
          "data": {
            "text/plain": [
              "array([[1, 2, 3],\n",
              "       [4, 5, 6]])"
            ]
          },
          "execution_count": 25,
          "metadata": {},
          "output_type": "execute_result"
        }
      ],
      "source": [
        "# Equivalent statements\n",
        "np.reshape(array_1,(2,3))\n",
        "array_1.reshape(2,3)"
      ]
    },
    {
      "cell_type": "code",
      "execution_count": 26,
      "metadata": {},
      "outputs": [
        {
          "name": "stdout",
          "output_type": "stream",
          "text": [
            "[[1]\n",
            " [2]]\n"
          ]
        }
      ],
      "source": [
        "print(array_3.T) # transpose of array"
      ]
    },
    {
      "cell_type": "code",
      "execution_count": 27,
      "metadata": {
        "colab": {
          "base_uri": "https://localhost:8080/"
        },
        "id": "IA7GMlIDFhCk",
        "outputId": "d55eec40-ed33-4d4b-f0c1-78724abf9b74"
      },
      "outputs": [
        {
          "name": "stdout",
          "output_type": "stream",
          "text": [
            "[1 2]\n"
          ]
        }
      ],
      "source": [
        "print(array_3.reshape(-1))"
      ]
    },
    {
      "cell_type": "markdown",
      "metadata": {
        "id": "q-2zFgAKbu_2"
      },
      "source": [
        "Array information"
      ]
    },
    {
      "cell_type": "code",
      "execution_count": 28,
      "metadata": {
        "colab": {
          "base_uri": "https://localhost:8080/"
        },
        "id": "eFHHlfv5b5en",
        "outputId": "89225c3c-7751-4b1b-cbfc-84ed21c5fc9b"
      },
      "outputs": [
        {
          "data": {
            "text/plain": [
              "array([3.5, 7. ])"
            ]
          },
          "execution_count": 28,
          "metadata": {},
          "output_type": "execute_result"
        }
      ],
      "source": [
        "array_5.mean(axis=0) # mean along column for axis=0, along row for axis=1"
      ]
    },
    {
      "cell_type": "code",
      "execution_count": 29,
      "metadata": {
        "colab": {
          "base_uri": "https://localhost:8080/"
        },
        "id": "KzVLeGinb9SA",
        "outputId": "c3171ca4-ab9f-4e46-aacf-8a4666ca44ba"
      },
      "outputs": [
        {
          "data": {
            "text/plain": [
              "array([ 7, 14])"
            ]
          },
          "execution_count": 29,
          "metadata": {},
          "output_type": "execute_result"
        }
      ],
      "source": [
        "array_5.sum(axis=0)"
      ]
    },
    {
      "cell_type": "code",
      "execution_count": 30,
      "metadata": {
        "colab": {
          "base_uri": "https://localhost:8080/"
        },
        "id": "4nVEACY7b-ma",
        "outputId": "3ed00812-c3bf-4293-92d3-74ffe702cd2f"
      },
      "outputs": [
        {
          "data": {
            "text/plain": [
              "array([0.5, 1. ])"
            ]
          },
          "execution_count": 30,
          "metadata": {},
          "output_type": "execute_result"
        }
      ],
      "source": [
        "array_5.std(axis=0)"
      ]
    },
    {
      "cell_type": "code",
      "execution_count": 31,
      "metadata": {
        "colab": {
          "base_uri": "https://localhost:8080/"
        },
        "id": "Z0ehgdFpb_ks",
        "outputId": "f595e613-a699-41ba-e86f-4ae2a1662c69"
      },
      "outputs": [
        {
          "data": {
            "text/plain": [
              "array([4, 8])"
            ]
          },
          "execution_count": 31,
          "metadata": {},
          "output_type": "execute_result"
        }
      ],
      "source": [
        "array_5.max(axis=0)"
      ]
    },
    {
      "cell_type": "code",
      "execution_count": 32,
      "metadata": {
        "colab": {
          "base_uri": "https://localhost:8080/"
        },
        "id": "vHckY82OcBFT",
        "outputId": "00bbfbcd-ce72-463d-c74a-8f1a041cb34f"
      },
      "outputs": [
        {
          "data": {
            "text/plain": [
              "(2, 2)"
            ]
          },
          "execution_count": 32,
          "metadata": {},
          "output_type": "execute_result"
        }
      ],
      "source": [
        "array_5.shape"
      ]
    },
    {
      "cell_type": "markdown",
      "metadata": {
        "id": "Tae1fy0fcMhi"
      },
      "source": [
        "Transpose"
      ]
    },
    {
      "cell_type": "code",
      "execution_count": 33,
      "metadata": {
        "colab": {
          "base_uri": "https://localhost:8080/"
        },
        "id": "88Ih_MOocL8g",
        "outputId": "87e830d4-4bc6-4936-ebde-9fdae0920f23"
      },
      "outputs": [
        {
          "data": {
            "text/plain": [
              "array([[1, 3, 5],\n",
              "       [2, 4, 6]])"
            ]
          },
          "execution_count": 33,
          "metadata": {},
          "output_type": "execute_result"
        }
      ],
      "source": [
        "M1 = array_1.T\n",
        "M1"
      ]
    },
    {
      "cell_type": "markdown",
      "metadata": {
        "id": "u2tSmDu5coQt"
      },
      "source": [
        "Matrix elementwise exponentiation"
      ]
    },
    {
      "cell_type": "code",
      "execution_count": 34,
      "metadata": {
        "colab": {
          "base_uri": "https://localhost:8080/"
        },
        "id": "5bkjoNPlcPvd",
        "outputId": "8790135d-c830-436b-dd66-9e4cc777cb59"
      },
      "outputs": [
        {
          "data": {
            "text/plain": [
              "array([[  1,  27, 125],\n",
              "       [  8,  64, 216]], dtype=int32)"
            ]
          },
          "execution_count": 34,
          "metadata": {},
          "output_type": "execute_result"
        }
      ],
      "source": [
        "M1 ** 3"
      ]
    },
    {
      "cell_type": "markdown",
      "metadata": {
        "id": "C50e3tyxcvq5"
      },
      "source": [
        "Matrix multiplication --> np.matmul or np.dot"
      ]
    },
    {
      "cell_type": "code",
      "execution_count": 35,
      "metadata": {
        "id": "x7gmLCKZcrHW"
      },
      "outputs": [
        {
          "data": {
            "text/plain": [
              "array([[ 5, 11, 17],\n",
              "       [11, 25, 39],\n",
              "       [17, 39, 61]])"
            ]
          },
          "execution_count": 35,
          "metadata": {},
          "output_type": "execute_result"
        }
      ],
      "source": [
        "np.matmul(M1.T, M1)  # or np.dot(M1.T, M1)"
      ]
    },
    {
      "cell_type": "code",
      "execution_count": 36,
      "metadata": {
        "colab": {
          "base_uri": "https://localhost:8080/"
        },
        "id": "I2rjbsp8cyF_",
        "outputId": "dbd8d0c4-ab8e-46e9-d848-09e3485c7372"
      },
      "outputs": [
        {
          "name": "stdout",
          "output_type": "stream",
          "text": [
            "[[35 44]\n",
            " [44 56]]\n",
            "[[ 5 11 17]\n",
            " [11 25 39]\n",
            " [17 39 61]]\n"
          ]
        }
      ],
      "source": [
        "print(np.matmul(M1, M1.T))\n",
        "print(np.matmul(M1.T, M1))"
      ]
    },
    {
      "cell_type": "markdown",
      "metadata": {},
      "source": [
        "Inverse of Matrix --> np.linalg.inv()"
      ]
    },
    {
      "cell_type": "code",
      "execution_count": 37,
      "metadata": {
        "colab": {
          "base_uri": "https://localhost:8080/"
        },
        "id": "8IGZzye1c0yT",
        "outputId": "e12ea797-2f86-4194-d057-f62ad35d174e"
      },
      "outputs": [
        {
          "data": {
            "text/plain": [
              "array([[0.5, 0. ],\n",
              "       [0. , 0.5]])"
            ]
          },
          "execution_count": 37,
          "metadata": {},
          "output_type": "execute_result"
        }
      ],
      "source": [
        "np.linalg.inv(np.array([[2, 0], [0, 2]]))"
      ]
    },
    {
      "cell_type": "code",
      "execution_count": 38,
      "metadata": {
        "id": "ZiPGSWmLdIN8"
      },
      "outputs": [],
      "source": [
        "# np.linalg.inv(np.matmul(M1.T, M1))  # This should raise an exception since the matrix is singluar (aka not invertible)"
      ]
    },
    {
      "cell_type": "markdown",
      "metadata": {
        "id": "8N8rNaflegQJ"
      },
      "source": [
        "Evaluating linear systems Ax = b for b"
      ]
    },
    {
      "cell_type": "code",
      "execution_count": 39,
      "metadata": {
        "colab": {
          "base_uri": "https://localhost:8080/"
        },
        "id": "bXbW9WBcdLEJ",
        "outputId": "b7f71f80-607f-49ce-ebdf-347d3d338557"
      },
      "outputs": [
        {
          "data": {
            "text/plain": [
              "array([[4],\n",
              "       [2]])"
            ]
          },
          "execution_count": 39,
          "metadata": {},
          "output_type": "execute_result"
        }
      ],
      "source": [
        "A1 = np.array([[1, 1], [0, 1]])\n",
        "x1 = np.array([[2], [2]]) # 2x1 matrix \n",
        "b1 = np.matmul(A1, x1)\n",
        "b1"
      ]
    },
    {
      "cell_type": "markdown",
      "metadata": {
        "id": "TVXi6HVQek3a"
      },
      "source": [
        "Solve linear system --> np.linalg.solve()"
      ]
    },
    {
      "cell_type": "code",
      "execution_count": 40,
      "metadata": {
        "colab": {
          "base_uri": "https://localhost:8080/"
        },
        "id": "htguTKnJenzm",
        "outputId": "0ac92a1f-f82b-4a56-97db-f420668307e6"
      },
      "outputs": [
        {
          "data": {
            "text/plain": [
              "True"
            ]
          },
          "execution_count": 40,
          "metadata": {},
          "output_type": "execute_result"
        }
      ],
      "source": [
        "x1_verify = np.linalg.solve(A1, b1)\n",
        "all(x1 == x1_verify)"
      ]
    },
    {
      "cell_type": "markdown",
      "metadata": {
        "id": "8aP4IhdHeu85"
      },
      "source": [
        "If A is singular then the linear system may be overdetermined (no solution) when solving for x."
      ]
    },
    {
      "cell_type": "code",
      "execution_count": 41,
      "metadata": {
        "id": "CaCaK3wZerZu"
      },
      "outputs": [],
      "source": [
        "# A2 = np.array([[1, 1], [2, 2]])  # Note that the rank of this matrix is 1.\n",
        "# x2 = np.array([[2], [3]])\n",
        "# b2 = np.matmul(A2, x2)\n",
        "# x2_verify = np.linalg.solve(A2, b2)\n",
        "# all(x2 == x2_verify)"
      ]
    },
    {
      "cell_type": "markdown",
      "metadata": {
        "id": "mfRkeCJrhHXN"
      },
      "source": [
        "The first solution should be without numpy and the second with numpy. The vectorized forms with numpy should perform magnitudes more quickly."
      ]
    },
    {
      "cell_type": "code",
      "execution_count": 42,
      "metadata": {
        "colab": {
          "base_uri": "https://localhost:8080/"
        },
        "id": "uyk_LuNOezVh",
        "outputId": "512aaca7-1d55-4695-e6ed-6312727b64f7"
      },
      "outputs": [
        {
          "name": "stdout",
          "output_type": "stream",
          "text": [
            "Vector argument: [      0       1       2 ... 9999997 9999998 9999999]\n",
            "Matrix argument: [[  0   1   2 ...  97  98  99]\n",
            " [  1   2   3 ...  98  99 100]\n",
            " [  2   3   4 ...  99 100 101]\n",
            " ...\n",
            " [197 198 199 ... 294 295 296]\n",
            " [198 199 200 ... 295 296 297]\n",
            " [199 200 201 ... 296 297 298]]\n"
          ]
        }
      ],
      "source": [
        "arg_length = 10000000\n",
        "arg_vector = np.arange(arg_length)  # An example vector argument.\n",
        "print(f\"Vector argument: {arg_vector}\")\n",
        "\n",
        "num_rows, num_cols = 200, 100\n",
        "arg_matrix = np.array([[i + j for j in range(num_cols)] for i in range(num_rows)])  # An example matrix argument.\n",
        "print(f\"Matrix argument: {arg_matrix}\")"
      ]
    },
    {
      "cell_type": "markdown",
      "metadata": {
        "id": "aX0DY504hOcf"
      },
      "source": [
        "Construct a function which takes a vector, and returns a vector with each element doubled."
      ]
    },
    {
      "cell_type": "code",
      "execution_count": 43,
      "metadata": {
        "colab": {
          "base_uri": "https://localhost:8080/"
        },
        "id": "MN9XQckehJyn",
        "outputId": "e7d08a15-ef59-4e07-bc84-38c764a823bf"
      },
      "outputs": [
        {
          "name": "stdout",
          "output_type": "stream",
          "text": [
            "[0, 2, 4, 6, 8]\n",
            "Runtime: 2.364701747894287\n"
          ]
        }
      ],
      "source": [
        "def doubler(x):\n",
        "    \"\"\"Take an array and return an array with each element doubled.  This version does not use numpy.\n",
        "    \n",
        "    :param x: An array of numbers.\n",
        "    :return: An array of doubled numbers.\n",
        "    \"\"\"  \n",
        "    new_x = [None] * len(x)\n",
        "    for i in range(len(x)):\n",
        "        new_x[i] = x[i] * 2\n",
        "    return new_x\n",
        "\n",
        "start_time = time.time()\n",
        "print(doubler(arg_vector)[:5])\n",
        "print(f\"Runtime: {time.time() - start_time}\")"
      ]
    },
    {
      "cell_type": "code",
      "execution_count": 44,
      "metadata": {
        "colab": {
          "base_uri": "https://localhost:8080/"
        },
        "id": "6YtH0-I-hSKd",
        "outputId": "a6126303-3402-4cf4-de9e-93b4501a1f8c"
      },
      "outputs": [
        {
          "name": "stdout",
          "output_type": "stream",
          "text": [
            "[0 2 4 6 8]\n",
            "Runtime: 0.012966394424438477\n"
          ]
        }
      ],
      "source": [
        "def doubler_numpy(x):\n",
        "    \"\"\"Take an array and return an array with each element doubled.  This version uses numpy.\n",
        "    \n",
        "    :param x: An array of numbers.\n",
        "    :return: An array of doubled numbers.\n",
        "    \"\"\" \n",
        "    return x * 2\n",
        "\n",
        "start_time = time.time()\n",
        "print(doubler_numpy(arg_vector)[:5])\n",
        "print(f\"Runtime: {time.time() - start_time}\")"
      ]
    },
    {
      "cell_type": "markdown",
      "metadata": {
        "id": "c8VfwbnuhdQh"
      },
      "source": [
        "function which takes two vectors and returns the elementwise summation."
      ]
    },
    {
      "cell_type": "code",
      "execution_count": 45,
      "metadata": {
        "colab": {
          "base_uri": "https://localhost:8080/"
        },
        "id": "MiVVD1vLhWdp",
        "outputId": "a84e220e-d072-47d2-c0ea-8d30c3f7daa4"
      },
      "outputs": [
        {
          "name": "stdout",
          "output_type": "stream",
          "text": [
            "[0, 2, 4, 6, 8]\n",
            "Runtime: 2.3786330223083496\n"
          ]
        }
      ],
      "source": [
        "def adder(a, b):\n",
        "    \"\"\"Take two arrays and return an array with their elementwise addition.  This version does not use numpy.\n",
        "    \n",
        "    :param a: An array of numbers.\n",
        "    :param b: An array of numbers.\n",
        "    :return: An array of the elementwise addition of a and b.\n",
        "    \"\"\" \n",
        "    c = [None] * len(a)\n",
        "    for i in range(len(a)):\n",
        "        c[i] = a[i] + b[i]\n",
        "    return c\n",
        "            \n",
        "start_time = time.time()\n",
        "print(adder(arg_vector, arg_vector)[:5])\n",
        "print(f\"Runtime: {time.time() - start_time}\")"
      ]
    },
    {
      "cell_type": "code",
      "execution_count": 46,
      "metadata": {
        "colab": {
          "base_uri": "https://localhost:8080/"
        },
        "id": "b3ql5No7hjLu",
        "outputId": "d3cc5530-ee5c-48a3-dc44-9a655742b36c"
      },
      "outputs": [
        {
          "name": "stdout",
          "output_type": "stream",
          "text": [
            "[0 2 4 6 8]\n",
            "Runtime: 0.012964963912963867\n"
          ]
        }
      ],
      "source": [
        "def adder_numpy(a, b):\n",
        "    \"\"\"Take two arrays and return an array with their elementwise addition.  This version uses numpy.\n",
        "    \n",
        "    :param a: An array of numbers.\n",
        "    :param b: An array of numbers.\n",
        "    :return: An array of the elementwise addition of a and b.\n",
        "    \"\"\"\n",
        "    return np.add(a, b) #a + b\n",
        "\n",
        "start_time = time.time()\n",
        "print(adder_numpy(arg_vector, arg_vector)[:5])\n",
        "print(f\"Runtime: {time.time() - start_time}\")"
      ]
    },
    {
      "cell_type": "markdown",
      "metadata": {
        "id": "bxhjGoTwhv8h"
      },
      "source": [
        "function which takes a matrix and returns the tranpose."
      ]
    },
    {
      "cell_type": "code",
      "execution_count": 47,
      "metadata": {
        "colab": {
          "base_uri": "https://localhost:8080/"
        },
        "id": "vjRAm3IAhpiX",
        "outputId": "b870fa93-1f10-4f29-8cf9-ff70e072e623"
      },
      "outputs": [
        {
          "name": "stdout",
          "output_type": "stream",
          "text": [
            "[0, 1, 2, 3, 4]\n",
            "Runtime: 0.0029654502868652344\n"
          ]
        }
      ],
      "source": [
        "def transposer(A):\n",
        "    \"\"\"Take an mxn matrix (with m,n > 0) and return a nxm matrix with the transpose.\n",
        "    \n",
        "    :param A: A mxn matrix.\n",
        "    :return: A nxm matrix.\n",
        "    \"\"\"  \n",
        "    num_rows_input, num_cols_input = A.shape\n",
        "    # This is a list comprehension to construct the transpose\n",
        "    return [[A[i, j] for i in range(num_rows_input)] \n",
        "                   for j in range(num_cols_input)]\n",
        "\n",
        "start_time = time.time()\n",
        "print(transposer(arg_matrix)[0][:5])\n",
        "print(f\"Runtime: {time.time() - start_time}\")"
      ]
    },
    {
      "cell_type": "code",
      "execution_count": 48,
      "metadata": {
        "colab": {
          "base_uri": "https://localhost:8080/"
        },
        "id": "L8xEoikCh1qP",
        "outputId": "75f7c7eb-2bc6-436a-b217-c90887047912"
      },
      "outputs": [
        {
          "name": "stdout",
          "output_type": "stream",
          "text": [
            "[0 1 2 3 4]\n",
            "Runtime: 0.0\n"
          ]
        }
      ],
      "source": [
        "def transposer_numpy(A):\n",
        "    \"\"\"Take an mxn matrix (with m,n > 0) and return a nxm matrix with the transpose.\n",
        "    \n",
        "    :param A: A mxn matrix.\n",
        "    :return: A nxm matrix.\n",
        "    \"\"\"\n",
        "    return A.T\n",
        "\n",
        "start_time = time.time()\n",
        "print(transposer_numpy(arg_matrix)[0][:5])\n",
        "print(f\"Runtime: {time.time() - start_time}\")"
      ]
    },
    {
      "cell_type": "markdown",
      "metadata": {
        "id": "qVFn0ngch7OA"
      },
      "source": [
        "a function which takes two matrices and returns their dot product."
      ]
    },
    {
      "cell_type": "code",
      "execution_count": 49,
      "metadata": {
        "colab": {
          "base_uri": "https://localhost:8080/"
        },
        "id": "_DxO2kkOh4Vj",
        "outputId": "d5decc9a-bb77-464e-d04a-7777551f0937"
      },
      "outputs": [
        {
          "name": "stdout",
          "output_type": "stream",
          "text": [
            "[328350 333300 338250 343200 348150]\n",
            "Runtime: 2.183130979537964\n"
          ]
        }
      ],
      "source": [
        "def dot(A, B):\n",
        "    \"\"\"Take an mxn matrix and a nxk (with m,n, k > 0) and return a mxr matrix with the transpose.\n",
        "    \n",
        "    :param A: A mxn matrix.\n",
        "    :param B: A nxp matrix.\n",
        "    :return: A mxp matrix.\n",
        "    \"\"\"  \n",
        "    num_rows_output = A.shape[0]\n",
        "    num_cols_output = B.shape[1]\n",
        "    C = np.array([[0] * num_cols_output] * num_rows_output)\n",
        "    for i in range(num_rows_output):\n",
        "        for j in range(num_cols_output):\n",
        "            for k in range(A.shape[1]):  # dot product between row of A and column of B.\n",
        "                C[i][j] += A[i, k] * B[k, j]\n",
        "    return C\n",
        "\n",
        "start_time = time.time()\n",
        "print(dot(arg_matrix, arg_matrix.T)[0][:5])\n",
        "print(f\"Runtime: {time.time() - start_time}\")"
      ]
    },
    {
      "cell_type": "code",
      "execution_count": 50,
      "metadata": {
        "colab": {
          "base_uri": "https://localhost:8080/"
        },
        "id": "lnXsxHhKi4f-",
        "outputId": "18255cb3-0fa4-4a83-a7ff-b656fb5a74da"
      },
      "outputs": [
        {
          "name": "stdout",
          "output_type": "stream",
          "text": [
            "[328350 333300 338250 343200 348150]\n",
            "Runtime: 0.0029914379119873047\n"
          ]
        }
      ],
      "source": [
        "def dot_numpy(A, B):\n",
        "    \"\"\"Take an mxn matrix and a nxk (with m,n, k > 0) and return a mxr matrix with the transpose.\n",
        "    \n",
        "    :param A: A mxn matrix.\n",
        "    :param B: A nxr matrix.\n",
        "    :return: A nxr matrix.\n",
        "    \"\"\"  \n",
        "    return np.dot(A, B)\n",
        "\n",
        "start_time = time.time()\n",
        "print(dot_numpy(arg_matrix, arg_matrix.T)[0][:5])\n",
        "print(f\"Runtime: {time.time() - start_time}\")"
      ]
    },
    {
      "cell_type": "markdown",
      "metadata": {
        "id": "YTuH9BQEjd6i"
      },
      "source": [
        "In this section, we will make use of numpy's linalg module. "
      ]
    },
    {
      "cell_type": "code",
      "execution_count": 51,
      "metadata": {
        "id": "Hmn3uyvxi7Da"
      },
      "outputs": [],
      "source": [
        "#imports \n",
        "import numpy as np\n",
        "from numpy import linalg"
      ]
    },
    {
      "cell_type": "code",
      "execution_count": 52,
      "metadata": {
        "colab": {
          "base_uri": "https://localhost:8080/"
        },
        "id": "OjkKT_pujjSB",
        "outputId": "58df0bac-2943-4b99-b566-f5cc9648b8ec"
      },
      "outputs": [
        {
          "data": {
            "text/plain": [
              "array([[1],\n",
              "       [2],\n",
              "       [3]])"
            ]
          },
          "execution_count": 52,
          "metadata": {},
          "output_type": "execute_result"
        }
      ],
      "source": [
        "# first, initialize new numpy array \n",
        "a = np.array([[1],[2],[3]])\n",
        "a"
      ]
    },
    {
      "cell_type": "markdown",
      "metadata": {
        "id": "uo42NroekUs8"
      },
      "source": [
        "NORM"
      ]
    },
    {
      "cell_type": "code",
      "execution_count": 53,
      "metadata": {
        "id": "dvHrhuqzkSK_"
      },
      "outputs": [
        {
          "data": {
            "text/plain": [
              "3.0"
            ]
          },
          "execution_count": 53,
          "metadata": {},
          "output_type": "execute_result"
        }
      ],
      "source": [
        "linalg.norm(a)  # L2 / Euclidean norm\n",
        "linalg.norm(a, ord=1)  # L1 norm\n",
        "linalg.norm(a, ord=np.inf)  # inf-norm / max norm"
      ]
    },
    {
      "cell_type": "markdown",
      "metadata": {
        "id": "9U8BcjGEka_Y"
      },
      "source": [
        "Computing the Determinant:"
      ]
    },
    {
      "cell_type": "code",
      "execution_count": 54,
      "metadata": {
        "colab": {
          "base_uri": "https://localhost:8080/"
        },
        "id": "mg3XzzzpkVor",
        "outputId": "26ce88e6-0213-4e30-92f1-e32068966466"
      },
      "outputs": [
        {
          "name": "stdout",
          "output_type": "stream",
          "text": [
            "Singular matrix\n"
          ]
        }
      ],
      "source": [
        "\n",
        "\n",
        "# initialize matrix A\n",
        "A = np.array([[1,0,3],[4,-1,6],[7,8,3]])\n",
        "A\n",
        "# compute determinant\n",
        "linalg.det(A)\n",
        "# initialize matrix B\n",
        "B = np.array([[1,2,3],[2,4,6],[3,6,9]])\n",
        "B\n",
        "# compute determinant\n",
        "linalg.det(B)\n",
        "# compute inverse\n",
        "try:\n",
        "    linalg.inv(B)  # throws exception because matrix is singular \n",
        "except Exception as e:\n",
        "    print(e)"
      ]
    },
    {
      "cell_type": "markdown",
      "metadata": {
        "id": "Ut3Zw80fv4pr"
      },
      "source": [
        "Computing eigenvalues and eigenvectors --> linalg.eig:"
      ]
    },
    {
      "cell_type": "code",
      "execution_count": 55,
      "metadata": {
        "colab": {
          "base_uri": "https://localhost:8080/"
        },
        "id": "E0pOYFZhv2Q7",
        "outputId": "07736593-4419-4c41-f1c5-86217950355c"
      },
      "outputs": [
        {
          "name": "stdout",
          "output_type": "stream",
          "text": [
            "[10.36660027 -1.         -6.36660027]\n",
            "[[-0.2603943  -0.75856745 -0.30110589]\n",
            " [-0.5207886   0.4108907  -0.60221177]\n",
            " [-0.8130031   0.50571163  0.73937557]]\n"
          ]
        }
      ],
      "source": [
        "eigvals, eigvecs = linalg.eig(A)  \n",
        "print(eigvals) # vector of eigenvalues\n",
        "print(eigvecs) # eigenvectors are columns of the matrix"
      ]
    },
    {
      "cell_type": "markdown",
      "metadata": {
        "id": "cxudQt4Bv8vs"
      },
      "source": [
        "Note that eig does not guarantee that eigenvalues are returned in sorted order.\n",
        "\n",
        "For symmetric matrices, use eigh instead. This is more efficient and numerically reliable because it takes advantage of the fact that the matrix is symmetric. Moreover, the eigenvalues are returned in ascending order.\n"
      ]
    },
    {
      "cell_type": "code",
      "execution_count": 56,
      "metadata": {
        "colab": {
          "base_uri": "https://localhost:8080/"
        },
        "id": "rMkmAcwuv-wf",
        "outputId": "4931cb4a-20d7-4971-9aae-dd5d31e21777"
      },
      "outputs": [
        {
          "data": {
            "text/plain": [
              "array([[ 10,  22,  16],\n",
              "       [ 22,  53,  38],\n",
              "       [ 16,  38, 122]])"
            ]
          },
          "execution_count": 56,
          "metadata": {},
          "output_type": "execute_result"
        }
      ],
      "source": [
        "# initialize symmetric matrix\n",
        "S = np.matmul(A, A.transpose())\n",
        "S"
      ]
    },
    {
      "cell_type": "code",
      "execution_count": 57,
      "metadata": {
        "colab": {
          "base_uri": "https://localhost:8080/"
        },
        "id": "ydvSepTZv_I9",
        "outputId": "fd0f60b3-077b-44e6-fd7c-ddf1d3c4e2f2"
      },
      "outputs": [
        {
          "name": "stdout",
          "output_type": "stream",
          "text": [
            "[  0.73882306  41.21711541 143.04406153]\n",
            "[[ 9.21673813e-01  3.45544439e-01  1.76398478e-01]\n",
            " [-3.87965696e-01  8.20934884e-01  4.18985124e-01]\n",
            " [-3.36839069e-05 -4.54604175e-01  8.90693574e-01]]\n"
          ]
        }
      ],
      "source": [
        "eigvals, eigvecs = linalg.eigh(S)   \n",
        "print(eigvals)\n",
        "print(eigvecs)"
      ]
    },
    {
      "cell_type": "markdown",
      "metadata": {
        "id": "Rs7XwiOywOE9"
      },
      "source": [
        "If you only want eigenvalues, you can use the linalg.eigvals and linalg.eigvalsh functions.\n",
        "Let's try to recompose the matrix from eigenvalues and eigenvectors:\n"
      ]
    },
    {
      "cell_type": "code",
      "execution_count": 58,
      "metadata": {
        "colab": {
          "base_uri": "https://localhost:8080/"
        },
        "id": "996-QNWowMsk",
        "outputId": "de8ca4f9-7893-46e9-cf82-3b23b8c3e9cf"
      },
      "outputs": [
        {
          "data": {
            "text/plain": [
              "array([[ 1.0000000e+00,  4.4408921e-16,  3.0000000e+00],\n",
              "       [ 4.0000000e+00, -1.0000000e+00,  6.0000000e+00],\n",
              "       [ 7.0000000e+00,  8.0000000e+00,  3.0000000e+00]])"
            ]
          },
          "execution_count": 58,
          "metadata": {},
          "output_type": "execute_result"
        }
      ],
      "source": [
        "L, V = linalg.eig(A)  # eigenvalues and eigenvectors\n",
        "A_recomposed = np.matmul(V, np.matmul(np.diag(L), linalg.inv(V)))  # recompose matrix \n",
        "A_recomposed"
      ]
    },
    {
      "cell_type": "code",
      "execution_count": 59,
      "metadata": {
        "colab": {
          "base_uri": "https://localhost:8080/"
        },
        "id": "zzsJ1dJD_WLC",
        "outputId": "1ac63d75-cfe4-4ae0-bbcf-2c05d24f3bbf"
      },
      "outputs": [
        {
          "data": {
            "text/plain": [
              "array([[ True,  True,  True],\n",
              "       [ True,  True,  True],\n",
              "       [ True,  True,  True]])"
            ]
          },
          "execution_count": 59,
          "metadata": {},
          "output_type": "execute_result"
        }
      ],
      "source": [
        "np.isclose(A,A_recomposed) # check if array elements are the same after eigenconstruction"
      ]
    },
    {
      "cell_type": "markdown",
      "metadata": {
        "id": "E3EN1gHyxlXs"
      },
      "source": [
        "# Broadcasting\n",
        "The term broadcasting describes how numpy treats arrays with different shapes during arithmetic operations. Subject to certain constraints, the smaller array is “broadcast” across the larger array so that they have compatible shapes. Broadcasting provides a means of vectorizing array operations so that looping occurs in C instead of Python. It does this without making needless copies of data and usually leads to efficient algorithm implementations. There are, however, cases where broadcasting is a bad idea because it leads to inefficient use of memory that slows computation.\n",
        "\n",
        "NumPy operations are usually done on pairs of arrays on an element-by-element basis. In the simplest case, the two arrays must have exactly the same shape, as in the following example:"
      ]
    },
    {
      "cell_type": "code",
      "execution_count": 60,
      "metadata": {
        "id": "wp22jkUQw6yu"
      },
      "outputs": [
        {
          "data": {
            "text/plain": [
              "array([2., 4., 6.])"
            ]
          },
          "execution_count": 60,
          "metadata": {},
          "output_type": "execute_result"
        }
      ],
      "source": [
        "a = np.array([1.0, 2.0, 3.0])\n",
        "b = np.array([2.0, 2.0, 2.0])\n",
        "a * b"
      ]
    },
    {
      "cell_type": "markdown",
      "metadata": {
        "id": "xTghs3aMx8l9"
      },
      "source": [
        "# General Broadcasting Rules\n",
        "\n",
        "When operating on two arrays, NumPy compares their shapes element-wise. It starts with the trailing dimensions, and works its way forward. Two dimensions are compatible when\n",
        "\n",
        "they are equal, or\n",
        "one of them is 1\n",
        "If these conditions are not met, a ValueError: frames are not aligned exception is thrown, indicating that the arrays have incompatible shapes. The size of the resulting array is the maximum size along each dimension of the input arrays.\n",
        "\n",
        "Arrays do not need to have the same number of dimensions. For example, if you have a 256x256x3 array of RGB values, and you want to scale each color in the image by a different value, you can multiply the image by a one-dimensional array with 3 values. Lining up the sizes of the trailing axes of these arrays according to the broadcast rules, shows that they are compatible: \n",
        "\n",
        "Image  (3d array): 256 x 256 x 3\n",
        "\n",
        "Scale  (1d array): ..........x 3\n",
        "\n",
        "Result (3d array): 256 x 256 x 3"
      ]
    },
    {
      "cell_type": "markdown",
      "metadata": {
        "id": "eb9k9Mugyhk5"
      },
      "source": [
        "When either of the dimensions compared is one, the other is used. In other words, dimensions with size 1 are stretched or “copied” to match the other.\n",
        "\n",
        "In the following example, both the A and B arrays have axes with length one that are expanded to a larger size during the broadcast operation:\n",
        "\n",
        "A      (4d array):  8 x 1 x 6 x 1\n",
        "\n",
        "B      (3d array):      7 x 1 x 5\n",
        "\n",
        "Result (4d array):  8 x 7 x 6 x 5\n"
      ]
    },
    {
      "cell_type": "markdown",
      "metadata": {
        "id": "ExuK8vJ3y-WK"
      },
      "source": [
        "A      (2d array):  5 x 4\n",
        "\n",
        "B      (1d array):      1\n",
        "\n",
        "Result (2d array):  5 x 4\n",
        "\n",
        "\n",
        "A      (2d array):  5 x 4\n",
        "\n",
        "B      (1d array):      4\n",
        "\n",
        "Result (2d array):  5 x 4\n",
        "\n",
        "\n",
        "A      (3d array):  15 x 3 x 5\n",
        "\n",
        "B      (3d array):  15 x 1 x 5\n",
        "\n",
        "Result (3d array):  15 x 3 x 5\n",
        "\n",
        "\n",
        "A      (3d array):  15 x 3 x 5\n",
        "\n",
        "B      (2d array):       3 x 5\n",
        "\n",
        "Result (3d array):  15 x 3 x 5\n",
        "\n",
        "\n",
        "A      (3d array):  15 x 3 x 5\n",
        "\n",
        "B      (2d array):       3 x 1\n",
        "\n",
        "Result (3d array):  15 x 3 x 5"
      ]
    },
    {
      "cell_type": "code",
      "execution_count": 61,
      "metadata": {
        "id": "wDxfTp7O0Pzf"
      },
      "outputs": [],
      "source": [
        "# An example of broadcasting in practice:\n",
        "\n",
        "x = np.arange(4)\n",
        "xx = x.reshape(4,1)\n",
        "y = np.ones(5)\n",
        "z = np.ones((3,4))"
      ]
    },
    {
      "cell_type": "code",
      "execution_count": 62,
      "metadata": {
        "id": "uIYcxzM30fga"
      },
      "outputs": [
        {
          "data": {
            "text/plain": [
              "(4,)"
            ]
          },
          "execution_count": 62,
          "metadata": {},
          "output_type": "execute_result"
        }
      ],
      "source": [
        "x.shape"
      ]
    },
    {
      "cell_type": "code",
      "execution_count": 63,
      "metadata": {
        "id": "48lmN-TF0hiX"
      },
      "outputs": [
        {
          "data": {
            "text/plain": [
              "(5,)"
            ]
          },
          "execution_count": 63,
          "metadata": {},
          "output_type": "execute_result"
        }
      ],
      "source": [
        "y.shape"
      ]
    },
    {
      "cell_type": "code",
      "execution_count": 64,
      "metadata": {
        "id": "GKqBcGy_0jql"
      },
      "outputs": [
        {
          "data": {
            "text/plain": [
              "array([[1., 1., 1., 1., 1.],\n",
              "       [2., 2., 2., 2., 2.],\n",
              "       [3., 3., 3., 3., 3.],\n",
              "       [4., 4., 4., 4., 4.]])"
            ]
          },
          "execution_count": 64,
          "metadata": {},
          "output_type": "execute_result"
        }
      ],
      "source": [
        "xx + y"
      ]
    },
    {
      "cell_type": "code",
      "execution_count": 65,
      "metadata": {
        "id": "pZmUStYW043v"
      },
      "outputs": [
        {
          "data": {
            "text/plain": [
              "(4, 5)"
            ]
          },
          "execution_count": 65,
          "metadata": {},
          "output_type": "execute_result"
        }
      ],
      "source": [
        "(xx + y).shape"
      ]
    },
    {
      "cell_type": "code",
      "execution_count": 66,
      "metadata": {
        "id": "GN7hYbzv0IBg"
      },
      "outputs": [
        {
          "data": {
            "text/plain": [
              "array([[1., 2., 3., 4.],\n",
              "       [1., 2., 3., 4.],\n",
              "       [1., 2., 3., 4.]])"
            ]
          },
          "execution_count": 66,
          "metadata": {},
          "output_type": "execute_result"
        }
      ],
      "source": [
        "x + z"
      ]
    },
    {
      "cell_type": "code",
      "execution_count": 67,
      "metadata": {
        "id": "ELiiEJ_Z1Aii"
      },
      "outputs": [
        {
          "data": {
            "text/plain": [
              "array([[ 1.,  2.,  3.],\n",
              "       [11., 12., 13.],\n",
              "       [21., 22., 23.],\n",
              "       [31., 32., 33.]])"
            ]
          },
          "execution_count": 67,
          "metadata": {},
          "output_type": "execute_result"
        }
      ],
      "source": [
        "a = np.array([0.0, 10.0, 20.0, 30.0])\n",
        "b = np.array([1.0, 2.0, 3.0])\n",
        "a[:, np.newaxis] + b"
      ]
    },
    {
      "cell_type": "code",
      "execution_count": 68,
      "metadata": {},
      "outputs": [
        {
          "name": "stdout",
          "output_type": "stream",
          "text": [
            "(3, 3)\n"
          ]
        },
        {
          "data": {
            "text/plain": [
              "(3, 1, 3)"
            ]
          },
          "execution_count": 68,
          "metadata": {},
          "output_type": "execute_result"
        }
      ],
      "source": [
        "print(A.shape)\n",
        "A[:, np.newaxis].shape"
      ]
    },
    {
      "cell_type": "code",
      "execution_count": 69,
      "metadata": {
        "colab": {
          "base_uri": "https://localhost:8080/"
        },
        "id": "-87IZQzUUQAG",
        "outputId": "1473f057-ad47-49cc-92d6-f272d939f715"
      },
      "outputs": [
        {
          "data": {
            "text/plain": [
              "array([2., 4., 6.])"
            ]
          },
          "execution_count": 69,
          "metadata": {},
          "output_type": "execute_result"
        }
      ],
      "source": [
        "from numpy import array \n",
        "a = array([1.0,2.0,3.0])\n",
        "b = array([2.0,2.0,2.0])\n",
        "a * b"
      ]
    },
    {
      "cell_type": "markdown",
      "metadata": {
        "id": "l2frkQ6z1Gan"
      },
      "source": [
        "Here the newaxis index operator inserts a new axis into a, making it a two-dimensional 4x1 array. Combining the 4x1 array with b, which has shape (3,), yields a 4x3 array."
      ]
    },
    {
      "cell_type": "code",
      "execution_count": 70,
      "metadata": {
        "colab": {
          "base_uri": "https://localhost:8080/",
          "height": 265
        },
        "id": "VY3MX7bI9Ewf",
        "outputId": "26a9b620-a356-44cf-c874-5526fddcdaba"
      },
      "outputs": [
        {
          "data": {
            "image/png": "[encoded data removed]",
            "text/plain": [
              "<Figure size 640x480 with 1 Axes>"
            ]
          },
          "metadata": {},
          "output_type": "display_data"
        }
      ],
      "source": [
        "import matplotlib.pyplot as plt\n",
        "plt.plot([1, 2, 3, 4, 40])\n",
        "plt.ylabel('some numbers')\n",
        "plt.show()"
      ]
    },
    {
      "cell_type": "code",
      "execution_count": 71,
      "metadata": {
        "colab": {
          "base_uri": "https://localhost:8080/",
          "height": 283
        },
        "id": "n8sYwBxq9FH5",
        "outputId": "28ed7963-64c0-4d4e-c2b5-20a3699a8d25"
      },
      "outputs": [
        {
          "data": {
            "text/plain": [
              "[<matplotlib.lines.Line2D at 0x19019bfba60>]"
            ]
          },
          "execution_count": 71,
          "metadata": {},
          "output_type": "execute_result"
        },
        {
          "data": {
            "image/png": "[encoded data removed]",
            "text/plain": [
              "<Figure size 640x480 with 1 Axes>"
            ]
          },
          "metadata": {},
          "output_type": "display_data"
        }
      ],
      "source": [
        "plt.plot([1, 2, 3, 4], [1, 4, 9, 16])"
      ]
    },
    {
      "cell_type": "markdown",
      "metadata": {
        "id": "yQDT2cQl9vOR"
      },
      "source": [
        "# Formatting the style of your plot\n"
      ]
    },
    {
      "cell_type": "code",
      "execution_count": 72,
      "metadata": {
        "colab": {
          "base_uri": "https://localhost:8080/",
          "height": 269
        },
        "id": "23QHtljN9i0f",
        "outputId": "0c04aa9d-d065-4b91-9f0d-e0ad405f7fe1"
      },
      "outputs": [
        {
          "data": {
            "image/png": "[encoded data removed]",
            "text/plain": [
              "<Figure size 640x480 with 1 Axes>"
            ]
          },
          "metadata": {},
          "output_type": "display_data"
        }
      ],
      "source": [
        "import matplotlib.pyplot as plt\n",
        "plt.plot([1, 2, 3, 4], [1, 4, 9, 16])\n",
        "plt.axis([0, 6, 0, 16]) # https://matplotlib.org/stable/api/_as_gen/matplotlib.pyplot.axis.html\n",
        "plt.show()"
      ]
    },
    {
      "cell_type": "code",
      "execution_count": 73,
      "metadata": {
        "colab": {
          "base_uri": "https://localhost:8080/",
          "height": 265
        },
        "id": "iFN_FOVZ9qRN",
        "outputId": "a6183e76-8536-4d84-ed1a-84a031131d84"
      },
      "outputs": [
        {
          "data": {
            "image/png": "[encoded data removed]",
            "text/plain": [
              "<Figure size 640x480 with 1 Axes>"
            ]
          },
          "metadata": {},
          "output_type": "display_data"
        }
      ],
      "source": [
        "import numpy as np\n",
        "\n",
        "# evenly sampled time at 200ms intervals\n",
        "t = np.arange(0., 5., 0.2)\n",
        "\n",
        "# red dashes, blue squares and green triangles\n",
        "plt.plot(t, t, 'r--', t+5, t**2, 'bs', t, t**3, 'g^')\n",
        "plt.show()"
      ]
    },
    {
      "cell_type": "code",
      "execution_count": 74,
      "metadata": {
        "colab": {
          "base_uri": "https://localhost:8080/",
          "height": 279
        },
        "id": "pj4X8xBl92Tc",
        "outputId": "717d0ba1-d292-4262-9885-6b7255382fc2"
      },
      "outputs": [
        {
          "data": {
            "image/png": "[encoded data removed]",
            "text/plain": [
              "<Figure size 640x480 with 1 Axes>"
            ]
          },
          "metadata": {},
          "output_type": "display_data"
        }
      ],
      "source": [
        "data = {'a': np.arange(50),\n",
        "        'c': np.random.randint(0, 50, 50),\n",
        "        'd': np.random.randn(50)}\n",
        "data['b'] = data['a'] + 10 * np.random.randn(50) # including noise with np.random\n",
        "data['d'] = np.abs(data['d']) * 100\n",
        "\n",
        "plt.scatter('a', 'b', c='c', s='d', data=data) # s = standard deviation\n",
        "plt.xlabel('entry a')\n",
        "plt.ylabel('entry b')\n",
        "plt.show()"
      ]
    },
    {
      "cell_type": "markdown",
      "metadata": {
        "id": "FoepvgT3-yvf"
      },
      "source": [
        "Plotting with categorical variables\n",
        "It is also possible to create a plot using categorical variables. Matplotlib allows you to pass categorical variables directly to many plotting functions. For example:\n"
      ]
    },
    {
      "cell_type": "code",
      "execution_count": 75,
      "metadata": {
        "colab": {
          "base_uri": "https://localhost:8080/",
          "height": 233
        },
        "id": "7hTm1DKy9-_G",
        "outputId": "30e6dcfa-cf03-4983-c9e4-e09abd7130c6"
      },
      "outputs": [
        {
          "data": {
            "image/png": "[encoded data removed]",
            "text/plain": [
              "<Figure size 900x300 with 3 Axes>"
            ]
          },
          "metadata": {},
          "output_type": "display_data"
        }
      ],
      "source": [
        "\n",
        "names = ['group_a', 'group_b', 'group_c']\n",
        "values = [1, 10, 100]\n",
        "\n",
        "plt.figure(figsize=(9, 3))\n",
        "\n",
        "plt.subplot(131)\n",
        "plt.bar(names, values)\n",
        "plt.subplot(132)\n",
        "plt.scatter(names, values)\n",
        "plt.subplot(133)\n",
        "plt.plot(names, values)\n",
        "plt.suptitle('Categorical Plotting')\n",
        "plt.show()"
      ]
    },
    {
      "cell_type": "code",
      "execution_count": 76,
      "metadata": {
        "colab": {
          "base_uri": "https://localhost:8080/",
          "height": 265
        },
        "id": "hDdj-DZv-3aA",
        "outputId": "a089450c-1e1f-42dd-f41f-3b015512dea3"
      },
      "outputs": [
        {
          "data": {
            "image/png": "[encoded data removed]",
            "text/plain": [
              "<Figure size 640x480 with 2 Axes>"
            ]
          },
          "metadata": {},
          "output_type": "display_data"
        }
      ],
      "source": [
        "def f(t):\n",
        "    return np.exp(-t) * np.cos(2*np.pi*t)\n",
        "\n",
        "t1 = np.arange(0.0, 5.0, 0.1) # 0 to 5 in steps of 0.1\n",
        "t2 = np.arange(0.0, 5.0, 0.02)\n",
        "\n",
        "plt.figure()\n",
        "plt.subplot(211) # 211 for 2x1 graph set, corresponding to the first figure\n",
        "plt.plot(t1, f(t1), 'bo', t2, f(t2), 'k')\n",
        "\n",
        "plt.subplot(212)\n",
        "plt.plot(t2, np.cos(2*np.pi*t2), 'r--')\n",
        "plt.show()"
      ]
    },
    {
      "cell_type": "markdown",
      "metadata": {
        "id": "3gTWLTkp_9Oy"
      },
      "source": [
        "Working with multiple figures and axes\n",
        "MATLAB, and pyplot, have the concept of the current figure and the current axes. All plotting functions apply to the current axes. The function gca returns the current axes (a matplotlib.axes.Axes instance), and gcf returns the current figure (a matplotlib.figure.Figure instance). Normally, you don't have to worry about this, because it is all taken care of behind the scenes. Below is a script to create two subplots."
      ]
    },
    {
      "cell_type": "code",
      "execution_count": 77,
      "metadata": {
        "colab": {
          "base_uri": "https://localhost:8080/",
          "height": 295
        },
        "id": "8AG2Kr3N_4Ff",
        "outputId": "8ed377cd-c952-4972-957f-9b8fc5ea2971"
      },
      "outputs": [
        {
          "data": {
            "image/png": "[encoded data removed]",
            "text/plain": [
              "<Figure size 640x480 with 1 Axes>"
            ]
          },
          "metadata": {},
          "output_type": "display_data"
        }
      ],
      "source": [
        "mu, sigma = 100, 15\n",
        "x = mu + sigma * np.random.randn(10000)\n",
        "\n",
        "# the histogram of the data\n",
        "n, bins, patches = plt.hist(x, 50, density=1, facecolor='g', alpha=0.75)\n",
        "\n",
        "\n",
        "plt.xlabel('Smarts')\n",
        "plt.ylabel('Probability')\n",
        "plt.title('Histogram')\n",
        "plt.text(60, .025, r'$\\mu=100,\\ \\sigma=15$')\n",
        "plt.axis([40, 160, 0, 0.03])\n",
        "plt.grid(True)\n",
        "# plt.title(r'$\\sigma_i=15$')\n",
        "# plt.xlabel('my data', fontsize=14, color='red')\n",
        "plt.show()"
      ]
    },
    {
      "cell_type": "markdown",
      "metadata": {
        "id": "laPycRaNBo4B"
      },
      "source": [
        "Annotating text (plt.text, plt.annotate)\n"
      ]
    },
    {
      "cell_type": "code",
      "execution_count": 78,
      "metadata": {
        "colab": {
          "base_uri": "https://localhost:8080/",
          "height": 269
        },
        "id": "AI7jLso5AXX8",
        "outputId": "013f191f-334f-4d0a-df61-860abf4cecae"
      },
      "outputs": [
        {
          "data": {
            "image/png": "[encoded data removed]",
            "text/plain": [
              "<Figure size 640x480 with 1 Axes>"
            ]
          },
          "metadata": {},
          "output_type": "display_data"
        }
      ],
      "source": [
        "ax = plt.subplot()\n",
        "\n",
        "t = np.arange(0.0, 5.0, 0.01)\n",
        "s = np.cos(2*np.pi*t)\n",
        "line, = plt.plot(t, s, lw=2)\n",
        "\n",
        "plt.annotate('local max', xy=(2, 1), xytext=(3, 1.5),\n",
        "             arrowprops=dict(facecolor='black', shrink=0.05),\n",
        "             )\n",
        "\n",
        "plt.ylim(-2, 2)\n",
        "plt.show()"
      ]
    },
    {
      "cell_type": "code",
      "execution_count": 79,
      "metadata": {
        "colab": {
          "base_uri": "https://localhost:8080/"
        },
        "id": "RYR4yJ_mBrkS",
        "outputId": "631cee5f-fa18-4c0f-a6f2-d3f43ac2b197"
      },
      "outputs": [
        {
          "data": {
            "text/plain": [
              "{'facecolor': 'black', 'shrink': 0.05}"
            ]
          },
          "execution_count": 79,
          "metadata": {},
          "output_type": "execute_result"
        }
      ],
      "source": [
        "dict(facecolor='black', shrink=0.05)"
      ]
    },
    {
      "cell_type": "markdown",
      "metadata": {
        "id": "hABCP37TAKxy"
      },
      "source": [
        "# Appendix"
      ]
    },
    {
      "cell_type": "code",
      "execution_count": 80,
      "metadata": {
        "id": "oTmvPseBR1u-"
      },
      "outputs": [],
      "source": [
        "%matplotlib inline\n",
        "import matplotlib.pyplot as plt\n",
        "\n",
        "import numpy as np\n",
        "from numpy import linalg\n",
        "\n",
        "from sklearn.datasets import fetch_olivetti_faces"
      ]
    },
    {
      "cell_type": "code",
      "execution_count": 81,
      "metadata": {
        "colab": {
          "base_uri": "https://localhost:8080/"
        },
        "id": "kX4mhDKsANrG",
        "outputId": "fd527dee-af1b-4da4-ec69-96c357b41b07"
      },
      "outputs": [
        {
          "name": "stdout",
          "output_type": "stream",
          "text": [
            "downloading Olivetti faces from https://ndownloader.figshare.com/files/5976027 to C:\\Users\\Ethan's PC\\scikit_learn_data\n"
          ]
        }
      ],
      "source": [
        "# load faces dataset\n",
        "faces = fetch_olivetti_faces(shuffle=True).data"
      ]
    },
    {
      "cell_type": "code",
      "execution_count": 82,
      "metadata": {
        "colab": {
          "base_uri": "https://localhost:8080/"
        },
        "id": "58Gk4LmhARJ3",
        "outputId": "6c2e3c02-ecf3-4131-fc75-d67f17d4aea4"
      },
      "outputs": [
        {
          "data": {
            "text/plain": [
              "(400, 4096)"
            ]
          },
          "execution_count": 82,
          "metadata": {},
          "output_type": "execute_result"
        }
      ],
      "source": [
        "faces.shape  # 400 images of dimension 64 x 64 \n",
        "# note: images are elongated into a 4096-dimensional vector"
      ]
    },
    {
      "cell_type": "code",
      "execution_count": 83,
      "metadata": {
        "id": "VjWgLrywATUy"
      },
      "outputs": [],
      "source": [
        "faces = faces - faces.mean(axis=0)  # center data"
      ]
    },
    {
      "cell_type": "code",
      "execution_count": 84,
      "metadata": {
        "id": "7oe-TLilAVtA"
      },
      "outputs": [],
      "source": [
        "# Helper method: Plots the first 15 images in the dataset.\n",
        "def plot_images(images):\n",
        "    images = images[0:15,:]\n",
        "    plt.figure(figsize=(10,7))\n",
        "    for i, image in enumerate(images):\n",
        "        plt.subplot(3, 5, i+1)\n",
        "        cmap_range = max(image.max(), -image.min())\n",
        "        reshaped =  image.reshape((64,64))\n",
        "        plt.imshow(reshaped, vmin=-cmap_range, vmax=cmap_range,\n",
        "                   cmap=plt.cm.gray, interpolation='nearest')\n",
        "        plt.xticks(())\n",
        "        plt.yticks(())"
      ]
    },
    {
      "cell_type": "markdown",
      "metadata": {
        "id": "Q5E_BQ-6AiP7"
      },
      "source": [
        "To get a sense of the dataset, let's first plot the first few images:"
      ]
    },
    {
      "cell_type": "code",
      "execution_count": 85,
      "metadata": {
        "colab": {
          "base_uri": "https://localhost:8080/",
          "height": 399
        },
        "id": "NkIngJTbAXkU",
        "outputId": "df3d4040-ca6d-45e9-f77a-85266a105935"
      },
      "outputs": [
        {
          "data": {
            "image/png": "[encoded data removed]",
            "text/plain": [
              "<Figure size 1000x700 with 15 Axes>"
            ]
          },
          "metadata": {},
          "output_type": "display_data"
        }
      ],
      "source": [
        "plot_images(faces)"
      ]
    },
    {
      "cell_type": "code",
      "execution_count": 86,
      "metadata": {
        "id": "a0ifBdONAjR_"
      },
      "outputs": [],
      "source": [
        "\"\"\"\n",
        "In this box, compute the SVD of the Faces dataset. \n",
        "You may use the linalg module in numpy.\n",
        "You should get three outputs, the left singular matrix U, \n",
        "a vector of singular values S, and the transpose of the right \n",
        "singular matrix, V_T. \n",
        "\"\"\"\n",
        "def compute_svd(data):\n",
        "    return np.linalg.svd(data)\n",
        "\n",
        "face = faces[0]\n",
        "U, S, V_T = compute_svd(face.reshape(-1,64))"
      ]
    },
    {
      "cell_type": "code",
      "execution_count": 87,
      "metadata": {
        "colab": {
          "base_uri": "https://localhost:8080/"
        },
        "id": "WemockM_DnZS",
        "outputId": "037abb31-7629-424f-9a76-076645995087"
      },
      "outputs": [
        {
          "data": {
            "text/plain": [
              "(64, 64)"
            ]
          },
          "execution_count": 87,
          "metadata": {},
          "output_type": "execute_result"
        }
      ],
      "source": [
        "U.shape"
      ]
    },
    {
      "cell_type": "code",
      "execution_count": 88,
      "metadata": {
        "colab": {
          "base_uri": "https://localhost:8080/"
        },
        "id": "Jjo6E_7hDxGP",
        "outputId": "9a744856-569c-463f-ecdb-015ed6868821"
      },
      "outputs": [
        {
          "data": {
            "text/plain": [
              "(64,)"
            ]
          },
          "execution_count": 88,
          "metadata": {},
          "output_type": "execute_result"
        }
      ],
      "source": [
        "S.shape"
      ]
    },
    {
      "cell_type": "code",
      "execution_count": 89,
      "metadata": {
        "colab": {
          "base_uri": "https://localhost:8080/"
        },
        "id": "k66L0h-_DyYj",
        "outputId": "1ace2a43-cb70-4dff-9e99-8feb5204609b"
      },
      "outputs": [
        {
          "data": {
            "text/plain": [
              "(64, 64)"
            ]
          },
          "execution_count": 89,
          "metadata": {},
          "output_type": "execute_result"
        }
      ],
      "source": [
        "V_T.shape"
      ]
    },
    {
      "cell_type": "code",
      "execution_count": null,
      "metadata": {
        "id": "SXHbma7WD0B_"
      },
      "outputs": [],
      "source": []
    }
  ],
  "metadata": {
    "colab": {
      "provenance": []
    },
    "kernelspec": {
      "display_name": "base",
      "language": "python",
      "name": "python3"
    },
    "language_info": {
      "codemirror_mode": {
        "name": "ipython",
        "version": 3
      },
      "file_extension": ".py",
      "mimetype": "text/x-python",
      "name": "python",
      "nbconvert_exporter": "python",
      "pygments_lexer": "ipython3",
      "version": "3.9.15"
    },
    "vscode": {
      "interpreter": {
        "hash": "ff4f85d6e04298634172ac5d8264e7e9b556b95639fe52ebb9425c4d4cba0c9c"
      }
    }
  },
  "nbformat": 4,
  "nbformat_minor": 0
}
