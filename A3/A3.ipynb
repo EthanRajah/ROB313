{
 "cells": [
  {
   "attachments": {},
   "cell_type": "markdown",
   "metadata": {},
   "source": [
    "# **Assignment 3 ROB313 - Optimization**"
   ]
  },
  {
   "cell_type": "code",
   "execution_count": 1,
   "metadata": {},
   "outputs": [],
   "source": [
    "# Import revelant libraries\n",
    "\n",
    "import numpy as np\n",
    "import matplotlib.pyplot as plt\n",
    "from time import time\n",
    "from data.data_utils import load_dataset\n",
    "from scipy.linalg import cho_factor, cho_solve, svd\n",
    "np.random.seed(21)"
   ]
  },
  {
   "attachments": {},
   "cell_type": "markdown",
   "metadata": {},
   "source": [
    "**Question 1 - Variants of Gradient Descent**"
   ]
  },
  {
   "cell_type": "code",
   "execution_count": null,
   "metadata": {},
   "outputs": [],
   "source": [
    "def fullbatchGD(x_train, y_train, x_valid, y_valid, x_test, y_test):\n",
    "    eta = 0.01 # learning rate\n",
    "\n",
    "\n",
    "def stochasticGD(x_train, y_train, x_valid, y_valid, x_test, y_test):\n",
    "    pass\n",
    "\n",
    "def runQ1(mini_batch):\n",
    "    x_train, x_valid, x_test, y_train, y_valid, y_test = load_dataset('pumadyn32nm')\n",
    "    # Use only first 1000 points in training set for predictions\n",
    "    x_train, y_train = x_train[:1000], y_train[:1000]"
   ]
  }
 ],
 "metadata": {
  "kernelspec": {
   "display_name": "base",
   "language": "python",
   "name": "python3"
  },
  "language_info": {
   "codemirror_mode": {
    "name": "ipython",
    "version": 3
   },
   "file_extension": ".py",
   "mimetype": "text/x-python",
   "name": "python",
   "nbconvert_exporter": "python",
   "pygments_lexer": "ipython3",
   "version": "3.9.15"
  },
  "orig_nbformat": 4
 },
 "nbformat": 4,
 "nbformat_minor": 2
}
